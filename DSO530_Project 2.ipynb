{
 "cells": [
  {
   "cell_type": "code",
   "execution_count": 15,
   "id": "914c1700",
   "metadata": {
    "ExecuteTime": {
     "end_time": "2022-04-02T22:58:14.989346Z",
     "start_time": "2022-04-02T22:58:13.306466Z"
    }
   },
   "outputs": [],
   "source": [
    "import pandas as pd\n",
    "import seaborn as sns"
   ]
  },
  {
   "cell_type": "code",
   "execution_count": 2,
   "id": "683add9a",
   "metadata": {
    "ExecuteTime": {
     "end_time": "2022-04-02T22:17:54.849203Z",
     "start_time": "2022-04-02T22:17:54.806499Z"
    }
   },
   "outputs": [],
   "source": [
    "orig_test=pd.read_csv('option_test_wolabel.csv')\n",
    "orig_train=pd.read_csv('option_train.csv')"
   ]
  },
  {
   "cell_type": "code",
   "execution_count": 5,
   "id": "eaff63b4",
   "metadata": {
    "ExecuteTime": {
     "end_time": "2022-04-02T22:25:47.181844Z",
     "start_time": "2022-04-02T22:25:47.173211Z"
    }
   },
   "outputs": [
    {
     "data": {
      "text/plain": [
       "Index(['S', 'K', 'tau', 'r'], dtype='object')"
      ]
     },
     "execution_count": 5,
     "metadata": {},
     "output_type": "execute_result"
    }
   ],
   "source": [
    "orig_test.columns"
   ]
  },
  {
   "cell_type": "code",
   "execution_count": 4,
   "id": "b76724d2",
   "metadata": {
    "ExecuteTime": {
     "end_time": "2022-04-02T22:22:28.504015Z",
     "start_time": "2022-04-02T22:22:28.462509Z"
    }
   },
   "outputs": [
    {
     "data": {
      "text/html": [
       "<div>\n",
       "<style scoped>\n",
       "    .dataframe tbody tr th:only-of-type {\n",
       "        vertical-align: middle;\n",
       "    }\n",
       "\n",
       "    .dataframe tbody tr th {\n",
       "        vertical-align: top;\n",
       "    }\n",
       "\n",
       "    .dataframe thead th {\n",
       "        text-align: right;\n",
       "    }\n",
       "</style>\n",
       "<table border=\"1\" class=\"dataframe\">\n",
       "  <thead>\n",
       "    <tr style=\"text-align: right;\">\n",
       "      <th></th>\n",
       "      <th>Value</th>\n",
       "      <th>S</th>\n",
       "      <th>K</th>\n",
       "      <th>tau</th>\n",
       "      <th>r</th>\n",
       "      <th>BS</th>\n",
       "    </tr>\n",
       "  </thead>\n",
       "  <tbody>\n",
       "    <tr>\n",
       "      <th>0</th>\n",
       "      <td>21.670404</td>\n",
       "      <td>431.623898</td>\n",
       "      <td>420.0</td>\n",
       "      <td>0.341270</td>\n",
       "      <td>0.03013</td>\n",
       "      <td>Under</td>\n",
       "    </tr>\n",
       "    <tr>\n",
       "      <th>1</th>\n",
       "      <td>0.125000</td>\n",
       "      <td>427.015526</td>\n",
       "      <td>465.0</td>\n",
       "      <td>0.166667</td>\n",
       "      <td>0.03126</td>\n",
       "      <td>Over</td>\n",
       "    </tr>\n",
       "    <tr>\n",
       "      <th>2</th>\n",
       "      <td>20.691244</td>\n",
       "      <td>427.762336</td>\n",
       "      <td>415.0</td>\n",
       "      <td>0.265873</td>\n",
       "      <td>0.03116</td>\n",
       "      <td>Under</td>\n",
       "    </tr>\n",
       "    <tr>\n",
       "      <th>3</th>\n",
       "      <td>1.035002</td>\n",
       "      <td>451.711658</td>\n",
       "      <td>460.0</td>\n",
       "      <td>0.063492</td>\n",
       "      <td>0.02972</td>\n",
       "      <td>Over</td>\n",
       "    </tr>\n",
       "    <tr>\n",
       "      <th>4</th>\n",
       "      <td>39.553020</td>\n",
       "      <td>446.718974</td>\n",
       "      <td>410.0</td>\n",
       "      <td>0.166667</td>\n",
       "      <td>0.02962</td>\n",
       "      <td>Under</td>\n",
       "    </tr>\n",
       "  </tbody>\n",
       "</table>\n",
       "</div>"
      ],
      "text/plain": [
       "       Value           S      K       tau        r     BS\n",
       "0  21.670404  431.623898  420.0  0.341270  0.03013  Under\n",
       "1   0.125000  427.015526  465.0  0.166667  0.03126   Over\n",
       "2  20.691244  427.762336  415.0  0.265873  0.03116  Under\n",
       "3   1.035002  451.711658  460.0  0.063492  0.02972   Over\n",
       "4  39.553020  446.718974  410.0  0.166667  0.02962  Under"
      ]
     },
     "execution_count": 4,
     "metadata": {},
     "output_type": "execute_result"
    }
   ],
   "source": [
    "orig_train.head()"
   ]
  },
  {
   "cell_type": "code",
   "execution_count": 6,
   "id": "0b86c8a2",
   "metadata": {
    "ExecuteTime": {
     "end_time": "2022-04-02T22:35:01.281986Z",
     "start_time": "2022-04-02T22:35:01.277356Z"
    }
   },
   "outputs": [],
   "source": [
    "# Value (C): numerical y\n",
    "# S + K + tau + r : possible x\n",
    "# BS: categorical y"
   ]
  },
  {
   "cell_type": "code",
   "execution_count": 14,
   "id": "3b099b2d",
   "metadata": {
    "ExecuteTime": {
     "end_time": "2022-04-02T22:56:38.319011Z",
     "start_time": "2022-04-02T22:56:38.281568Z"
    }
   },
   "outputs": [
    {
     "data": {
      "text/html": [
       "<div>\n",
       "<style scoped>\n",
       "    .dataframe tbody tr th:only-of-type {\n",
       "        vertical-align: middle;\n",
       "    }\n",
       "\n",
       "    .dataframe tbody tr th {\n",
       "        vertical-align: top;\n",
       "    }\n",
       "\n",
       "    .dataframe thead th {\n",
       "        text-align: right;\n",
       "    }\n",
       "</style>\n",
       "<table border=\"1\" class=\"dataframe\">\n",
       "  <thead>\n",
       "    <tr style=\"text-align: right;\">\n",
       "      <th></th>\n",
       "      <th>Value</th>\n",
       "      <th>S</th>\n",
       "      <th>K</th>\n",
       "      <th>tau</th>\n",
       "      <th>r</th>\n",
       "    </tr>\n",
       "  </thead>\n",
       "  <tbody>\n",
       "    <tr>\n",
       "      <th>count</th>\n",
       "      <td>1679.000000</td>\n",
       "      <td>1679.000000</td>\n",
       "      <td>1678.000000</td>\n",
       "      <td>1679.000000</td>\n",
       "      <td>1680.000000</td>\n",
       "    </tr>\n",
       "    <tr>\n",
       "      <th>mean</th>\n",
       "      <td>15.072013</td>\n",
       "      <td>440.639445</td>\n",
       "      <td>438.241955</td>\n",
       "      <td>0.437519</td>\n",
       "      <td>0.030235</td>\n",
       "    </tr>\n",
       "    <tr>\n",
       "      <th>std</th>\n",
       "      <td>14.036492</td>\n",
       "      <td>13.130436</td>\n",
       "      <td>23.408989</td>\n",
       "      <td>7.057555</td>\n",
       "      <td>0.000557</td>\n",
       "    </tr>\n",
       "    <tr>\n",
       "      <th>min</th>\n",
       "      <td>0.125000</td>\n",
       "      <td>0.000000</td>\n",
       "      <td>375.000000</td>\n",
       "      <td>0.003968</td>\n",
       "      <td>0.029510</td>\n",
       "    </tr>\n",
       "    <tr>\n",
       "      <th>25%</th>\n",
       "      <td>2.255002</td>\n",
       "      <td>433.863864</td>\n",
       "      <td>420.000000</td>\n",
       "      <td>0.119048</td>\n",
       "      <td>0.029820</td>\n",
       "    </tr>\n",
       "    <tr>\n",
       "      <th>50%</th>\n",
       "      <td>11.220588</td>\n",
       "      <td>442.525366</td>\n",
       "      <td>440.000000</td>\n",
       "      <td>0.202381</td>\n",
       "      <td>0.030130</td>\n",
       "    </tr>\n",
       "    <tr>\n",
       "      <th>75%</th>\n",
       "      <td>25.745904</td>\n",
       "      <td>447.320414</td>\n",
       "      <td>455.000000</td>\n",
       "      <td>0.285714</td>\n",
       "      <td>0.030540</td>\n",
       "    </tr>\n",
       "    <tr>\n",
       "      <th>max</th>\n",
       "      <td>60.149367</td>\n",
       "      <td>455.880619</td>\n",
       "      <td>500.000000</td>\n",
       "      <td>250.000000</td>\n",
       "      <td>0.031880</td>\n",
       "    </tr>\n",
       "  </tbody>\n",
       "</table>\n",
       "</div>"
      ],
      "text/plain": [
       "             Value            S            K          tau            r\n",
       "count  1679.000000  1679.000000  1678.000000  1679.000000  1680.000000\n",
       "mean     15.072013   440.639445   438.241955     0.437519     0.030235\n",
       "std      14.036492    13.130436    23.408989     7.057555     0.000557\n",
       "min       0.125000     0.000000   375.000000     0.003968     0.029510\n",
       "25%       2.255002   433.863864   420.000000     0.119048     0.029820\n",
       "50%      11.220588   442.525366   440.000000     0.202381     0.030130\n",
       "75%      25.745904   447.320414   455.000000     0.285714     0.030540\n",
       "max      60.149367   455.880619   500.000000   250.000000     0.031880"
      ]
     },
     "execution_count": 14,
     "metadata": {},
     "output_type": "execute_result"
    }
   ],
   "source": [
    "orig_train.describe()"
   ]
  },
  {
   "cell_type": "code",
   "execution_count": 11,
   "id": "bd1112ac",
   "metadata": {
    "ExecuteTime": {
     "end_time": "2022-04-02T22:55:09.130022Z",
     "start_time": "2022-04-02T22:55:09.108933Z"
    }
   },
   "outputs": [
    {
     "data": {
      "text/html": [
       "<div>\n",
       "<style scoped>\n",
       "    .dataframe tbody tr th:only-of-type {\n",
       "        vertical-align: middle;\n",
       "    }\n",
       "\n",
       "    .dataframe tbody tr th {\n",
       "        vertical-align: top;\n",
       "    }\n",
       "\n",
       "    .dataframe thead th {\n",
       "        text-align: right;\n",
       "    }\n",
       "</style>\n",
       "<table border=\"1\" class=\"dataframe\">\n",
       "  <thead>\n",
       "    <tr style=\"text-align: right;\">\n",
       "      <th></th>\n",
       "      <th>Value</th>\n",
       "      <th>S</th>\n",
       "      <th>K</th>\n",
       "      <th>tau</th>\n",
       "      <th>r</th>\n",
       "      <th>BS</th>\n",
       "    </tr>\n",
       "  </thead>\n",
       "  <tbody>\n",
       "    <tr>\n",
       "      <th>292</th>\n",
       "      <td>8.625</td>\n",
       "      <td>NaN</td>\n",
       "      <td>NaN</td>\n",
       "      <td>NaN</td>\n",
       "      <td>0.03003</td>\n",
       "      <td>Over</td>\n",
       "    </tr>\n",
       "  </tbody>\n",
       "</table>\n",
       "</div>"
      ],
      "text/plain": [
       "     Value   S   K  tau        r    BS\n",
       "292  8.625 NaN NaN  NaN  0.03003  Over"
      ]
     },
     "execution_count": 11,
     "metadata": {},
     "output_type": "execute_result"
    }
   ],
   "source": [
    "orig_train[orig_train['tau'].isnull()]"
   ]
  },
  {
   "cell_type": "code",
   "execution_count": 12,
   "id": "46400875",
   "metadata": {
    "ExecuteTime": {
     "end_time": "2022-04-02T22:55:26.090366Z",
     "start_time": "2022-04-02T22:55:26.072885Z"
    }
   },
   "outputs": [
    {
     "data": {
      "text/html": [
       "<div>\n",
       "<style scoped>\n",
       "    .dataframe tbody tr th:only-of-type {\n",
       "        vertical-align: middle;\n",
       "    }\n",
       "\n",
       "    .dataframe tbody tr th {\n",
       "        vertical-align: top;\n",
       "    }\n",
       "\n",
       "    .dataframe thead th {\n",
       "        text-align: right;\n",
       "    }\n",
       "</style>\n",
       "<table border=\"1\" class=\"dataframe\">\n",
       "  <thead>\n",
       "    <tr style=\"text-align: right;\">\n",
       "      <th></th>\n",
       "      <th>Value</th>\n",
       "      <th>S</th>\n",
       "      <th>K</th>\n",
       "      <th>tau</th>\n",
       "      <th>r</th>\n",
       "      <th>BS</th>\n",
       "    </tr>\n",
       "  </thead>\n",
       "  <tbody>\n",
       "    <tr>\n",
       "      <th>818</th>\n",
       "      <td>NaN</td>\n",
       "      <td>431.284616</td>\n",
       "      <td>NaN</td>\n",
       "      <td>0.230159</td>\n",
       "      <td>0.02972</td>\n",
       "      <td>Over</td>\n",
       "    </tr>\n",
       "  </tbody>\n",
       "</table>\n",
       "</div>"
      ],
      "text/plain": [
       "     Value           S   K       tau        r    BS\n",
       "818    NaN  431.284616 NaN  0.230159  0.02972  Over"
      ]
     },
     "execution_count": 12,
     "metadata": {},
     "output_type": "execute_result"
    }
   ],
   "source": [
    "orig_train[orig_train['Value'].isnull()]"
   ]
  },
  {
   "cell_type": "code",
   "execution_count": 17,
   "id": "55233b55",
   "metadata": {
    "ExecuteTime": {
     "end_time": "2022-04-02T22:59:04.037862Z",
     "start_time": "2022-04-02T22:59:03.870296Z"
    }
   },
   "outputs": [
    {
     "data": {
      "text/plain": [
       "<AxesSubplot:xlabel='Value'>"
      ]
     },
     "execution_count": 17,
     "metadata": {},
     "output_type": "execute_result"
    },
    {
     "data": {
      "image/png": "[encoded data removed]",
      "text/plain": [
       "<Figure size 432x288 with 1 Axes>"
      ]
     },
     "metadata": {
      "needs_background": "light"
     },
     "output_type": "display_data"
    }
   ],
   "source": [
    "sns.boxplot(x='Value',data=orig_train)"
   ]
  },
  {
   "cell_type": "code",
   "execution_count": 18,
   "id": "5a2acbb4",
   "metadata": {
    "ExecuteTime": {
     "end_time": "2022-04-02T22:59:16.812246Z",
     "start_time": "2022-04-02T22:59:16.641675Z"
    }
   },
   "outputs": [
    {
     "data": {
      "text/plain": [
       "<AxesSubplot:xlabel='S'>"
      ]
     },
     "execution_count": 18,
     "metadata": {},
     "output_type": "execute_result"
    },
    {
     "data": {
      "image/png": "[encoded data removed]",
      "text/plain": [
       "<Figure size 432x288 with 1 Axes>"
      ]
     },
     "metadata": {
      "needs_background": "light"
     },
     "output_type": "display_data"
    }
   ],
   "source": [
    "sns.boxplot(x='S',data=orig_train)"
   ]
  },
  {
   "cell_type": "code",
   "execution_count": 19,
   "id": "ac8be98c",
   "metadata": {
    "ExecuteTime": {
     "end_time": "2022-04-02T22:59:38.522507Z",
     "start_time": "2022-04-02T22:59:38.447284Z"
    }
   },
   "outputs": [
    {
     "data": {
      "text/html": [
       "<div>\n",
       "<style scoped>\n",
       "    .dataframe tbody tr th:only-of-type {\n",
       "        vertical-align: middle;\n",
       "    }\n",
       "\n",
       "    .dataframe tbody tr th {\n",
       "        vertical-align: top;\n",
       "    }\n",
       "\n",
       "    .dataframe thead th {\n",
       "        text-align: right;\n",
       "    }\n",
       "</style>\n",
       "<table border=\"1\" class=\"dataframe\">\n",
       "  <thead>\n",
       "    <tr style=\"text-align: right;\">\n",
       "      <th></th>\n",
       "      <th>Value</th>\n",
       "      <th>S</th>\n",
       "      <th>K</th>\n",
       "      <th>tau</th>\n",
       "      <th>r</th>\n",
       "      <th>BS</th>\n",
       "    </tr>\n",
       "  </thead>\n",
       "  <tbody>\n",
       "    <tr>\n",
       "      <th>879</th>\n",
       "      <td>4.125</td>\n",
       "      <td>0.0</td>\n",
       "      <td>455.0</td>\n",
       "      <td>0.170635</td>\n",
       "      <td>0.03003</td>\n",
       "      <td>Over</td>\n",
       "    </tr>\n",
       "  </tbody>\n",
       "</table>\n",
       "</div>"
      ],
      "text/plain": [
       "     Value    S      K       tau        r    BS\n",
       "879  4.125  0.0  455.0  0.170635  0.03003  Over"
      ]
     },
     "execution_count": 19,
     "metadata": {},
     "output_type": "execute_result"
    }
   ],
   "source": [
    "orig_train[orig_train['S']<400]"
   ]
  },
  {
   "cell_type": "code",
   "execution_count": 20,
   "id": "8b697339",
   "metadata": {
    "ExecuteTime": {
     "end_time": "2022-04-02T22:59:52.813634Z",
     "start_time": "2022-04-02T22:59:52.626048Z"
    }
   },
   "outputs": [
    {
     "data": {
      "text/plain": [
       "<AxesSubplot:xlabel='K'>"
      ]
     },
     "execution_count": 20,
     "metadata": {},
     "output_type": "execute_result"
    },
    {
     "data": {
      "image/png": "[encoded data removed]",
      "text/plain": [
       "<Figure size 432x288 with 1 Axes>"
      ]
     },
     "metadata": {
      "needs_background": "light"
     },
     "output_type": "display_data"
    }
   ],
   "source": [
    "sns.boxplot(x='K',data=orig_train)"
   ]
  },
  {
   "cell_type": "code",
   "execution_count": 21,
   "id": "1a9f1fe2",
   "metadata": {
    "ExecuteTime": {
     "end_time": "2022-04-02T23:00:01.319851Z",
     "start_time": "2022-04-02T23:00:01.142073Z"
    }
   },
   "outputs": [
    {
     "data": {
      "text/plain": [
       "<AxesSubplot:xlabel='tau'>"
      ]
     },
     "execution_count": 21,
     "metadata": {},
     "output_type": "execute_result"
    },
    {
     "data": {
      "image/png": "[encoded data removed]",
      "text/plain": [
       "<Figure size 432x288 with 1 Axes>"
      ]
     },
     "metadata": {
      "needs_background": "light"
     },
     "output_type": "display_data"
    }
   ],
   "source": [
    "sns.boxplot(x='tau',data=orig_train)"
   ]
  },
  {
   "cell_type": "code",
   "execution_count": 22,
   "id": "7db26e5d",
   "metadata": {
    "ExecuteTime": {
     "end_time": "2022-04-02T23:00:21.310766Z",
     "start_time": "2022-04-02T23:00:21.273637Z"
    }
   },
   "outputs": [
    {
     "data": {
      "text/html": [
       "<div>\n",
       "<style scoped>\n",
       "    .dataframe tbody tr th:only-of-type {\n",
       "        vertical-align: middle;\n",
       "    }\n",
       "\n",
       "    .dataframe tbody tr th {\n",
       "        vertical-align: top;\n",
       "    }\n",
       "\n",
       "    .dataframe thead th {\n",
       "        text-align: right;\n",
       "    }\n",
       "</style>\n",
       "<table border=\"1\" class=\"dataframe\">\n",
       "  <thead>\n",
       "    <tr style=\"text-align: right;\">\n",
       "      <th></th>\n",
       "      <th>Value</th>\n",
       "      <th>S</th>\n",
       "      <th>K</th>\n",
       "      <th>tau</th>\n",
       "      <th>r</th>\n",
       "      <th>BS</th>\n",
       "    </tr>\n",
       "  </thead>\n",
       "  <tbody>\n",
       "    <tr>\n",
       "      <th>12</th>\n",
       "      <td>2.315001</td>\n",
       "      <td>448.688109</td>\n",
       "      <td>470.0</td>\n",
       "      <td>250.0</td>\n",
       "      <td>0.03013</td>\n",
       "      <td>Over</td>\n",
       "    </tr>\n",
       "    <tr>\n",
       "      <th>33</th>\n",
       "      <td>2.565000</td>\n",
       "      <td>445.042240</td>\n",
       "      <td>455.0</td>\n",
       "      <td>146.0</td>\n",
       "      <td>0.03003</td>\n",
       "      <td>Over</td>\n",
       "    </tr>\n",
       "  </tbody>\n",
       "</table>\n",
       "</div>"
      ],
      "text/plain": [
       "       Value           S      K    tau        r    BS\n",
       "12  2.315001  448.688109  470.0  250.0  0.03013  Over\n",
       "33  2.565000  445.042240  455.0  146.0  0.03003  Over"
      ]
     },
     "execution_count": 22,
     "metadata": {},
     "output_type": "execute_result"
    }
   ],
   "source": [
    "orig_train[orig_train['tau']>50]"
   ]
  },
  {
   "cell_type": "code",
   "execution_count": 23,
   "id": "5eab8361",
   "metadata": {
    "ExecuteTime": {
     "end_time": "2022-04-02T23:00:37.655121Z",
     "start_time": "2022-04-02T23:00:37.481920Z"
    }
   },
   "outputs": [
    {
     "data": {
      "text/plain": [
       "<AxesSubplot:xlabel='r'>"
      ]
     },
     "execution_count": 23,
     "metadata": {},
     "output_type": "execute_result"
    },
    {
     "data": {
      "image/png": "[encoded data removed]",
      "text/plain": [
       "<Figure size 432x288 with 1 Axes>"
      ]
     },
     "metadata": {
      "needs_background": "light"
     },
     "output_type": "display_data"
    }
   ],
   "source": [
    "sns.boxplot(x='r',data=orig_train)"
   ]
  },
  {
   "cell_type": "code",
   "execution_count": 36,
   "id": "c9e53cb3",
   "metadata": {
    "ExecuteTime": {
     "end_time": "2022-04-02T23:13:35.155844Z",
     "start_time": "2022-04-02T23:13:35.129385Z"
    }
   },
   "outputs": [
    {
     "data": {
      "text/html": [
       "<div>\n",
       "<style scoped>\n",
       "    .dataframe tbody tr th:only-of-type {\n",
       "        vertical-align: middle;\n",
       "    }\n",
       "\n",
       "    .dataframe tbody tr th {\n",
       "        vertical-align: top;\n",
       "    }\n",
       "\n",
       "    .dataframe thead th {\n",
       "        text-align: right;\n",
       "    }\n",
       "</style>\n",
       "<table border=\"1\" class=\"dataframe\">\n",
       "  <thead>\n",
       "    <tr style=\"text-align: right;\">\n",
       "      <th></th>\n",
       "      <th>Value</th>\n",
       "      <th>S</th>\n",
       "      <th>K</th>\n",
       "      <th>tau</th>\n",
       "      <th>r</th>\n",
       "      <th>BS</th>\n",
       "    </tr>\n",
       "  </thead>\n",
       "  <tbody>\n",
       "    <tr>\n",
       "      <th>11</th>\n",
       "      <td>30.959515</td>\n",
       "      <td>432.350471</td>\n",
       "      <td>405.0</td>\n",
       "      <td>0.174603</td>\n",
       "      <td>0.03168</td>\n",
       "      <td>Under</td>\n",
       "    </tr>\n",
       "    <tr>\n",
       "      <th>35</th>\n",
       "      <td>6.750002</td>\n",
       "      <td>431.020394</td>\n",
       "      <td>440.0</td>\n",
       "      <td>0.285714</td>\n",
       "      <td>0.03168</td>\n",
       "      <td>Over</td>\n",
       "    </tr>\n",
       "    <tr>\n",
       "      <th>38</th>\n",
       "      <td>54.875996</td>\n",
       "      <td>430.638719</td>\n",
       "      <td>380.0</td>\n",
       "      <td>0.289683</td>\n",
       "      <td>0.03178</td>\n",
       "      <td>Under</td>\n",
       "    </tr>\n",
       "    <tr>\n",
       "      <th>116</th>\n",
       "      <td>27.904735</td>\n",
       "      <td>431.020394</td>\n",
       "      <td>410.0</td>\n",
       "      <td>0.285714</td>\n",
       "      <td>0.03168</td>\n",
       "      <td>Under</td>\n",
       "    </tr>\n",
       "    <tr>\n",
       "      <th>126</th>\n",
       "      <td>6.500003</td>\n",
       "      <td>430.638719</td>\n",
       "      <td>440.0</td>\n",
       "      <td>0.289683</td>\n",
       "      <td>0.03178</td>\n",
       "      <td>Over</td>\n",
       "    </tr>\n",
       "    <tr>\n",
       "      <th>...</th>\n",
       "      <td>...</td>\n",
       "      <td>...</td>\n",
       "      <td>...</td>\n",
       "      <td>...</td>\n",
       "      <td>...</td>\n",
       "      <td>...</td>\n",
       "    </tr>\n",
       "    <tr>\n",
       "      <th>1572</th>\n",
       "      <td>32.356754</td>\n",
       "      <td>426.025007</td>\n",
       "      <td>400.0</td>\n",
       "      <td>0.281746</td>\n",
       "      <td>0.03188</td>\n",
       "      <td>Under</td>\n",
       "    </tr>\n",
       "    <tr>\n",
       "      <th>1655</th>\n",
       "      <td>0.440002</td>\n",
       "      <td>426.025007</td>\n",
       "      <td>465.0</td>\n",
       "      <td>0.281746</td>\n",
       "      <td>0.03188</td>\n",
       "      <td>Over</td>\n",
       "    </tr>\n",
       "    <tr>\n",
       "      <th>1662</th>\n",
       "      <td>6.379346</td>\n",
       "      <td>434.638107</td>\n",
       "      <td>430.0</td>\n",
       "      <td>0.035714</td>\n",
       "      <td>0.03168</td>\n",
       "      <td>Over</td>\n",
       "    </tr>\n",
       "    <tr>\n",
       "      <th>1671</th>\n",
       "      <td>34.550891</td>\n",
       "      <td>433.886762</td>\n",
       "      <td>400.0</td>\n",
       "      <td>0.039683</td>\n",
       "      <td>0.03178</td>\n",
       "      <td>Under</td>\n",
       "    </tr>\n",
       "    <tr>\n",
       "      <th>1677</th>\n",
       "      <td>41.127997</td>\n",
       "      <td>428.042219</td>\n",
       "      <td>390.0</td>\n",
       "      <td>0.170635</td>\n",
       "      <td>0.03188</td>\n",
       "      <td>Under</td>\n",
       "    </tr>\n",
       "  </tbody>\n",
       "</table>\n",
       "<p>86 rows × 6 columns</p>\n",
       "</div>"
      ],
      "text/plain": [
       "          Value           S      K       tau        r     BS\n",
       "11    30.959515  432.350471  405.0  0.174603  0.03168  Under\n",
       "35     6.750002  431.020394  440.0  0.285714  0.03168   Over\n",
       "38    54.875996  430.638719  380.0  0.289683  0.03178  Under\n",
       "116   27.904735  431.020394  410.0  0.285714  0.03168  Under\n",
       "126    6.500003  430.638719  440.0  0.289683  0.03178   Over\n",
       "...         ...         ...    ...       ...      ...    ...\n",
       "1572  32.356754  426.025007  400.0  0.281746  0.03188  Under\n",
       "1655   0.440002  426.025007  465.0  0.281746  0.03188   Over\n",
       "1662   6.379346  434.638107  430.0  0.035714  0.03168   Over\n",
       "1671  34.550891  433.886762  400.0  0.039683  0.03178  Under\n",
       "1677  41.127997  428.042219  390.0  0.170635  0.03188  Under\n",
       "\n",
       "[86 rows x 6 columns]"
      ]
     },
     "execution_count": 36,
     "metadata": {},
     "output_type": "execute_result"
    }
   ],
   "source": [
    "orig_train[orig_train['r']>0.0315]"
   ]
  },
  {
   "cell_type": "code",
   "execution_count": 37,
   "id": "8d751995",
   "metadata": {
    "ExecuteTime": {
     "end_time": "2022-04-02T23:21:48.942011Z",
     "start_time": "2022-04-02T23:21:48.932285Z"
    }
   },
   "outputs": [],
   "source": [
    "orig_train['BS_binary']=orig_train['BS'].map({'Under':0, 'Over':1})"
   ]
  },
  {
   "cell_type": "code",
   "execution_count": 38,
   "id": "3a4a721d",
   "metadata": {
    "ExecuteTime": {
     "end_time": "2022-04-02T23:21:56.241289Z",
     "start_time": "2022-04-02T23:21:56.220587Z"
    }
   },
   "outputs": [
    {
     "data": {
      "text/html": [
       "<div>\n",
       "<style scoped>\n",
       "    .dataframe tbody tr th:only-of-type {\n",
       "        vertical-align: middle;\n",
       "    }\n",
       "\n",
       "    .dataframe tbody tr th {\n",
       "        vertical-align: top;\n",
       "    }\n",
       "\n",
       "    .dataframe thead th {\n",
       "        text-align: right;\n",
       "    }\n",
       "</style>\n",
       "<table border=\"1\" class=\"dataframe\">\n",
       "  <thead>\n",
       "    <tr style=\"text-align: right;\">\n",
       "      <th></th>\n",
       "      <th>Value</th>\n",
       "      <th>S</th>\n",
       "      <th>K</th>\n",
       "      <th>tau</th>\n",
       "      <th>r</th>\n",
       "      <th>BS</th>\n",
       "      <th>BS_binary</th>\n",
       "    </tr>\n",
       "  </thead>\n",
       "  <tbody>\n",
       "    <tr>\n",
       "      <th>0</th>\n",
       "      <td>21.670404</td>\n",
       "      <td>431.623898</td>\n",
       "      <td>420.0</td>\n",
       "      <td>0.341270</td>\n",
       "      <td>0.03013</td>\n",
       "      <td>Under</td>\n",
       "      <td>0</td>\n",
       "    </tr>\n",
       "    <tr>\n",
       "      <th>1</th>\n",
       "      <td>0.125000</td>\n",
       "      <td>427.015526</td>\n",
       "      <td>465.0</td>\n",
       "      <td>0.166667</td>\n",
       "      <td>0.03126</td>\n",
       "      <td>Over</td>\n",
       "      <td>1</td>\n",
       "    </tr>\n",
       "    <tr>\n",
       "      <th>2</th>\n",
       "      <td>20.691244</td>\n",
       "      <td>427.762336</td>\n",
       "      <td>415.0</td>\n",
       "      <td>0.265873</td>\n",
       "      <td>0.03116</td>\n",
       "      <td>Under</td>\n",
       "      <td>0</td>\n",
       "    </tr>\n",
       "    <tr>\n",
       "      <th>3</th>\n",
       "      <td>1.035002</td>\n",
       "      <td>451.711658</td>\n",
       "      <td>460.0</td>\n",
       "      <td>0.063492</td>\n",
       "      <td>0.02972</td>\n",
       "      <td>Over</td>\n",
       "      <td>1</td>\n",
       "    </tr>\n",
       "    <tr>\n",
       "      <th>4</th>\n",
       "      <td>39.553020</td>\n",
       "      <td>446.718974</td>\n",
       "      <td>410.0</td>\n",
       "      <td>0.166667</td>\n",
       "      <td>0.02962</td>\n",
       "      <td>Under</td>\n",
       "      <td>0</td>\n",
       "    </tr>\n",
       "  </tbody>\n",
       "</table>\n",
       "</div>"
      ],
      "text/plain": [
       "       Value           S      K       tau        r     BS  BS_binary\n",
       "0  21.670404  431.623898  420.0  0.341270  0.03013  Under          0\n",
       "1   0.125000  427.015526  465.0  0.166667  0.03126   Over          1\n",
       "2  20.691244  427.762336  415.0  0.265873  0.03116  Under          0\n",
       "3   1.035002  451.711658  460.0  0.063492  0.02972   Over          1\n",
       "4  39.553020  446.718974  410.0  0.166667  0.02962  Under          0"
      ]
     },
     "execution_count": 38,
     "metadata": {},
     "output_type": "execute_result"
    }
   ],
   "source": [
    "orig_train.head()"
   ]
  },
  {
   "cell_type": "code",
   "execution_count": 42,
   "id": "2db5f311",
   "metadata": {
    "ExecuteTime": {
     "end_time": "2022-04-02T23:32:57.381555Z",
     "start_time": "2022-04-02T23:32:57.368450Z"
    }
   },
   "outputs": [],
   "source": [
    "orig_train.drop(labels=[12,33,292,818,879], axis=0,inplace=True)"
   ]
  },
  {
   "cell_type": "code",
   "execution_count": 43,
   "id": "35ba3a86",
   "metadata": {
    "ExecuteTime": {
     "end_time": "2022-04-02T23:33:00.787393Z",
     "start_time": "2022-04-02T23:33:00.763539Z"
    }
   },
   "outputs": [
    {
     "data": {
      "text/html": [
       "<div>\n",
       "<style scoped>\n",
       "    .dataframe tbody tr th:only-of-type {\n",
       "        vertical-align: middle;\n",
       "    }\n",
       "\n",
       "    .dataframe tbody tr th {\n",
       "        vertical-align: top;\n",
       "    }\n",
       "\n",
       "    .dataframe thead th {\n",
       "        text-align: right;\n",
       "    }\n",
       "</style>\n",
       "<table border=\"1\" class=\"dataframe\">\n",
       "  <thead>\n",
       "    <tr style=\"text-align: right;\">\n",
       "      <th></th>\n",
       "      <th>Value</th>\n",
       "      <th>S</th>\n",
       "      <th>K</th>\n",
       "      <th>tau</th>\n",
       "      <th>r</th>\n",
       "      <th>BS</th>\n",
       "      <th>BS_binary</th>\n",
       "    </tr>\n",
       "  </thead>\n",
       "  <tbody>\n",
       "    <tr>\n",
       "      <th>0</th>\n",
       "      <td>21.670404</td>\n",
       "      <td>431.623898</td>\n",
       "      <td>420.0</td>\n",
       "      <td>0.341270</td>\n",
       "      <td>0.03013</td>\n",
       "      <td>Under</td>\n",
       "      <td>0</td>\n",
       "    </tr>\n",
       "    <tr>\n",
       "      <th>1</th>\n",
       "      <td>0.125000</td>\n",
       "      <td>427.015526</td>\n",
       "      <td>465.0</td>\n",
       "      <td>0.166667</td>\n",
       "      <td>0.03126</td>\n",
       "      <td>Over</td>\n",
       "      <td>1</td>\n",
       "    </tr>\n",
       "    <tr>\n",
       "      <th>2</th>\n",
       "      <td>20.691244</td>\n",
       "      <td>427.762336</td>\n",
       "      <td>415.0</td>\n",
       "      <td>0.265873</td>\n",
       "      <td>0.03116</td>\n",
       "      <td>Under</td>\n",
       "      <td>0</td>\n",
       "    </tr>\n",
       "    <tr>\n",
       "      <th>3</th>\n",
       "      <td>1.035002</td>\n",
       "      <td>451.711658</td>\n",
       "      <td>460.0</td>\n",
       "      <td>0.063492</td>\n",
       "      <td>0.02972</td>\n",
       "      <td>Over</td>\n",
       "      <td>1</td>\n",
       "    </tr>\n",
       "    <tr>\n",
       "      <th>4</th>\n",
       "      <td>39.553020</td>\n",
       "      <td>446.718974</td>\n",
       "      <td>410.0</td>\n",
       "      <td>0.166667</td>\n",
       "      <td>0.02962</td>\n",
       "      <td>Under</td>\n",
       "      <td>0</td>\n",
       "    </tr>\n",
       "    <tr>\n",
       "      <th>5</th>\n",
       "      <td>2.505002</td>\n",
       "      <td>436.958530</td>\n",
       "      <td>460.0</td>\n",
       "      <td>0.333333</td>\n",
       "      <td>0.03023</td>\n",
       "      <td>Over</td>\n",
       "      <td>1</td>\n",
       "    </tr>\n",
       "    <tr>\n",
       "      <th>6</th>\n",
       "      <td>4.315000</td>\n",
       "      <td>427.015526</td>\n",
       "      <td>435.0</td>\n",
       "      <td>0.166667</td>\n",
       "      <td>0.03126</td>\n",
       "      <td>Over</td>\n",
       "      <td>1</td>\n",
       "    </tr>\n",
       "    <tr>\n",
       "      <th>7</th>\n",
       "      <td>0.345002</td>\n",
       "      <td>428.996368</td>\n",
       "      <td>455.0</td>\n",
       "      <td>0.154762</td>\n",
       "      <td>0.03116</td>\n",
       "      <td>Over</td>\n",
       "      <td>1</td>\n",
       "    </tr>\n",
       "    <tr>\n",
       "      <th>8</th>\n",
       "      <td>27.297423</td>\n",
       "      <td>444.186127</td>\n",
       "      <td>420.0</td>\n",
       "      <td>0.150794</td>\n",
       "      <td>0.02993</td>\n",
       "      <td>Under</td>\n",
       "      <td>0</td>\n",
       "    </tr>\n",
       "    <tr>\n",
       "      <th>9</th>\n",
       "      <td>0.190000</td>\n",
       "      <td>429.314292</td>\n",
       "      <td>460.0</td>\n",
       "      <td>0.150794</td>\n",
       "      <td>0.03085</td>\n",
       "      <td>Over</td>\n",
       "      <td>1</td>\n",
       "    </tr>\n",
       "    <tr>\n",
       "      <th>10</th>\n",
       "      <td>13.687777</td>\n",
       "      <td>445.789963</td>\n",
       "      <td>440.0</td>\n",
       "      <td>0.226190</td>\n",
       "      <td>0.02982</td>\n",
       "      <td>Under</td>\n",
       "      <td>0</td>\n",
       "    </tr>\n",
       "    <tr>\n",
       "      <th>11</th>\n",
       "      <td>30.959515</td>\n",
       "      <td>432.350471</td>\n",
       "      <td>405.0</td>\n",
       "      <td>0.174603</td>\n",
       "      <td>0.03168</td>\n",
       "      <td>Under</td>\n",
       "      <td>0</td>\n",
       "    </tr>\n",
       "    <tr>\n",
       "      <th>13</th>\n",
       "      <td>45.446169</td>\n",
       "      <td>448.036694</td>\n",
       "      <td>405.0</td>\n",
       "      <td>0.134921</td>\n",
       "      <td>0.03034</td>\n",
       "      <td>Under</td>\n",
       "      <td>0</td>\n",
       "    </tr>\n",
       "    <tr>\n",
       "      <th>14</th>\n",
       "      <td>0.940000</td>\n",
       "      <td>446.718974</td>\n",
       "      <td>465.0</td>\n",
       "      <td>0.166667</td>\n",
       "      <td>0.02962</td>\n",
       "      <td>Over</td>\n",
       "      <td>1</td>\n",
       "    </tr>\n",
       "    <tr>\n",
       "      <th>15</th>\n",
       "      <td>7.815000</td>\n",
       "      <td>445.252690</td>\n",
       "      <td>450.0</td>\n",
       "      <td>0.277778</td>\n",
       "      <td>0.02962</td>\n",
       "      <td>Over</td>\n",
       "      <td>1</td>\n",
       "    </tr>\n",
       "  </tbody>\n",
       "</table>\n",
       "</div>"
      ],
      "text/plain": [
       "        Value           S      K       tau        r     BS  BS_binary\n",
       "0   21.670404  431.623898  420.0  0.341270  0.03013  Under          0\n",
       "1    0.125000  427.015526  465.0  0.166667  0.03126   Over          1\n",
       "2   20.691244  427.762336  415.0  0.265873  0.03116  Under          0\n",
       "3    1.035002  451.711658  460.0  0.063492  0.02972   Over          1\n",
       "4   39.553020  446.718974  410.0  0.166667  0.02962  Under          0\n",
       "5    2.505002  436.958530  460.0  0.333333  0.03023   Over          1\n",
       "6    4.315000  427.015526  435.0  0.166667  0.03126   Over          1\n",
       "7    0.345002  428.996368  455.0  0.154762  0.03116   Over          1\n",
       "8   27.297423  444.186127  420.0  0.150794  0.02993  Under          0\n",
       "9    0.190000  429.314292  460.0  0.150794  0.03085   Over          1\n",
       "10  13.687777  445.789963  440.0  0.226190  0.02982  Under          0\n",
       "11  30.959515  432.350471  405.0  0.174603  0.03168  Under          0\n",
       "13  45.446169  448.036694  405.0  0.134921  0.03034  Under          0\n",
       "14   0.940000  446.718974  465.0  0.166667  0.02962   Over          1\n",
       "15   7.815000  445.252690  450.0  0.277778  0.02962   Over          1"
      ]
     },
     "execution_count": 43,
     "metadata": {},
     "output_type": "execute_result"
    }
   ],
   "source": [
    "orig_train.head(15)"
   ]
  },
  {
   "cell_type": "code",
   "execution_count": 44,
   "id": "9f25613c",
   "metadata": {
    "ExecuteTime": {
     "end_time": "2022-04-02T23:33:43.691388Z",
     "start_time": "2022-04-02T23:33:43.664230Z"
    }
   },
   "outputs": [
    {
     "data": {
      "text/html": [
       "<div>\n",
       "<style scoped>\n",
       "    .dataframe tbody tr th:only-of-type {\n",
       "        vertical-align: middle;\n",
       "    }\n",
       "\n",
       "    .dataframe tbody tr th {\n",
       "        vertical-align: top;\n",
       "    }\n",
       "\n",
       "    .dataframe thead th {\n",
       "        text-align: right;\n",
       "    }\n",
       "</style>\n",
       "<table border=\"1\" class=\"dataframe\">\n",
       "  <thead>\n",
       "    <tr style=\"text-align: right;\">\n",
       "      <th></th>\n",
       "      <th>Value</th>\n",
       "      <th>S</th>\n",
       "      <th>K</th>\n",
       "      <th>tau</th>\n",
       "      <th>r</th>\n",
       "      <th>BS</th>\n",
       "      <th>BS_binary</th>\n",
       "    </tr>\n",
       "  </thead>\n",
       "  <tbody>\n",
       "  </tbody>\n",
       "</table>\n",
       "</div>"
      ],
      "text/plain": [
       "Empty DataFrame\n",
       "Columns: [Value, S, K, tau, r, BS, BS_binary]\n",
       "Index: []"
      ]
     },
     "execution_count": 44,
     "metadata": {},
     "output_type": "execute_result"
    }
   ],
   "source": [
    "orig_train[orig_train['tau']>50]"
   ]
  },
  {
   "cell_type": "code",
   "execution_count": 45,
   "id": "c238fc99",
   "metadata": {
    "ExecuteTime": {
     "end_time": "2022-04-02T23:34:21.878231Z",
     "start_time": "2022-04-02T23:34:21.814110Z"
    }
   },
   "outputs": [],
   "source": [
    "orig_train.to_csv('option_clean_train.csv')"
   ]
  },
  {
   "cell_type": "code",
   "execution_count": null,
   "id": "53b4350e",
   "metadata": {},
   "outputs": [],
   "source": []
  }
 ],
 "metadata": {
  "kernelspec": {
   "display_name": "Python 3 (ipykernel)",
   "language": "python",
   "name": "python3"
  },
  "language_info": {
   "codemirror_mode": {
    "name": "ipython",
    "version": 3
   },
   "file_extension": ".py",
   "mimetype": "text/x-python",
   "name": "python",
   "nbconvert_exporter": "python",
   "pygments_lexer": "ipython3",
   "version": "3.8.8"
  },
  "varInspector": {
   "cols": {
    "lenName": 16,
    "lenType": 16,
    "lenVar": 40
   },
   "kernels_config": {
    "python": {
     "delete_cmd_postfix": "",
     "delete_cmd_prefix": "del ",
     "library": "var_list.py",
     "varRefreshCmd": "print(var_dic_list())"
    },
    "r": {
     "delete_cmd_postfix": ") ",
     "delete_cmd_prefix": "rm(",
     "library": "var_list.r",
     "varRefreshCmd": "cat(var_dic_list()) "
    }
   },
   "types_to_exclude": [
    "module",
    "function",
    "builtin_function_or_method",
    "instance",
    "_Feature"
   ],
   "window_display": false
  }
 },
 "nbformat": 4,
 "nbformat_minor": 5
}
